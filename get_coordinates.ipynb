{
 "cells": [
  {
   "cell_type": "code",
   "execution_count": 1,
   "metadata": {},
   "outputs": [],
   "source": [
    "import pandas as pd\n",
    "import googlemaps\n",
    "\n",
    "gmaps = googlemaps.Client(key=\"\")\n",
    "\n",
    "df = pd.read_csv(\"AP on Hold.csv\", encoding=\"cp1252\")\n",
    "\n",
    "df['Postal code'] = df['Postal code'].astype(str)\n",
    "\n",
    "df['input'] = df[['Shop name', 'Address', 'City', 'Postal code', 'State']].agg(', '.join, axis=1)\n",
    "\n",
    "df['input'] = df['input'].replace('\\n', ' ')\n",
    "df.shape\n",
    "\n",
    "df = df.drop_duplicates(subset=['input'], keep=False)\n",
    "df.reset_index(inplace=True, drop = True)\n",
    "map = df.to_dict('index')\n"
   ]
  },
  {
   "cell_type": "code",
   "execution_count": 3,
   "metadata": {},
   "outputs": [
    {
     "name": "stderr",
     "output_type": "stream",
     "text": [
      "100%|██████████| 2747/2747 [27:02<00:00,  1.69it/s]\n"
     ]
    }
   ],
   "source": [
    "from tqdm import tqdm\n",
    "for k, val in tqdm(map.items()):\n",
    "    if \"lat\" in val:\n",
    "        continue\n",
    "    \n",
    "    res = gmaps.geocode(val['input'])\n",
    "    try:\n",
    "        val['lat'] = res[0]['geometry']['location']['lat']\n",
    "        val['lng'] = res[0]['geometry']['location']['lng']\n",
    "        val['correct_address'] = res[0]['formatted_address']\n",
    "    except:\n",
    "        val['lat'] = 0\n",
    "        val['lng'] = 0\n",
    "        val['correct_address'] = \"NaN\""
   ]
  },
  {
   "cell_type": "code",
   "execution_count": 4,
   "metadata": {},
   "outputs": [],
   "source": [
    "ans = pd.DataFrame(map.values())\n",
    "ans = ans.drop(['input'], axis=1)\n",
    "ans.to_csv('latlng.csv')"
   ]
  },
  {
   "cell_type": "code",
   "execution_count": null,
   "metadata": {},
   "outputs": [],
   "source": []
  },
  {
   "cell_type": "code",
   "execution_count": 89,
   "metadata": {},
   "outputs": [],
   "source": [
    "# find all the duplicated entrys\n",
    "df_dup = df[df['input'].duplicated(keep=False)].sort_values(by = 'input')"
   ]
  },
  {
   "cell_type": "code",
   "execution_count": 91,
   "metadata": {},
   "outputs": [
    {
     "data": {
      "text/plain": [
       "(55, 13)"
      ]
     },
     "execution_count": 91,
     "metadata": {},
     "output_type": "execute_result"
    }
   ],
   "source": [
    "df_dup.shape"
   ]
  }
 ],
 "metadata": {
  "kernelspec": {
   "display_name": "Python 3",
   "language": "python",
   "name": "python3"
  },
  "language_info": {
   "codemirror_mode": {
    "name": "ipython",
    "version": 3
   },
   "file_extension": ".py",
   "mimetype": "text/x-python",
   "name": "python",
   "nbconvert_exporter": "python",
   "pygments_lexer": "ipython3",
   "version": "3.8.3"
  }
 },
 "nbformat": 4,
 "nbformat_minor": 4
}
